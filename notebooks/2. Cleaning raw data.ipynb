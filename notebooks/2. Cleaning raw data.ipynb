{
 "cells": [
  {
   "cell_type": "markdown",
   "metadata": {},
   "source": [
    "# 2. Cleaning raw data\n",
    "\n",
    "First, let's remove any rows we don't need.\n",
    "\n",
    "We'll use the Complete University Guide data, for simplicity I've saved from the previous section as a csv file using:\n",
    "\n",
    "    df.to_csv(\"../data/CompleteUG.csv\", index=None)\n",
    "    \n",
    "This page is a web page first and foremost - not optimised for Data Engineers hacking their way through Pandas!!\n",
    "\n",
    "As a result, there are additional features that can appear - adverts, columns for navigation, and poorly named columns that don't appear as they do in the original DOM.\n",
    "    \n",
    "---\n",
    "\n",
    "## Imports"
   ]
  },
  {
   "cell_type": "code",
   "execution_count": null,
   "metadata": {},
   "outputs": [],
   "source": [
    "import pandas as pd"
   ]
  },
  {
   "cell_type": "code",
   "execution_count": null,
   "metadata": {},
   "outputs": [],
   "source": [
    "df = pd.read_csv(\"../data/CompleteUG.csv\")\n",
    "df.head()"
   ]
  },
  {
   "cell_type": "markdown",
   "metadata": {},
   "source": [
    "---\n",
    "\n",
    "## Dropping columns we don't need\n",
    "\n",
    "Notice how the first and last columns don't seem to contain anything useful? Let's get rid for clarity! \n",
    "\n",
    "Normally you might want to review more than the first 5 rows before jumping to this conclusion... On this occasion, trust me for now..."
   ]
  },
  {
   "cell_type": "code",
   "execution_count": null,
   "metadata": {},
   "outputs": [],
   "source": [
    "df.drop(columns=[\"Unnamed: 0\", \"Next Steps\"], axis=1, inplace=True)\n",
    "# inplace=true means we don't need to use a reassignment operator and no new objects are created in memory\n",
    "# axis 0 = rows\n",
    "# axis 1 = columns\n",
    "\n",
    "df.head()"
   ]
  },
  {
   "cell_type": "markdown",
   "metadata": {},
   "source": [
    "That's better. But the column names are still rubbish, so let's rename them!"
   ]
  },
  {
   "cell_type": "code",
   "execution_count": null,
   "metadata": {},
   "outputs": [],
   "source": [
    "# Provide a map of what to rename in the form of a dict\n",
    "cols = {\"Rank\": \"Rank\", \n",
    "        \"Rank.1\": \"Change_in_Rank\", \n",
    "        \"University Name\": \"University_Name\",\n",
    "        \"Entry Standards Entry Standards The average UCAS tariff score of new students entering the university. Read more\": \"Entry_Standards\", \n",
    "        \"Student Satisfaction Student Satisfaction A guide to how satisfied students are with the quality of teaching they receive. Maximum score: 5.00 Read more\": \"Student_Satisfaction\", \n",
    "        \"Research Quality Research Quality A measure of the quality of the research undertaken in the university. Maximum score: 4.00 Read more\": \"Research_Quality\", \n",
    "        \"Graduate Prospects Graduate Prospects A guide to the success of graduates on completion of their courses at the university. Maximum score: 100.0 Read more\": \"Graduate_Prospects\", \n",
    "        \"Overall Score Overall Score The total score calculated by our independent and trusted methodology, comprising entry standards, student satisfaction, research assessment (quality and intensity), graduate prospects, student–staff ratio, academic services spend, facilities spend, good honours, and degree completion. Maximum score: 1000 Read more\": \"Overall_Score\",\n",
    "       }\n",
    "df.rename(columns=cols, inplace=True)\n",
    "df.head()"
   ]
  },
  {
   "cell_type": "markdown",
   "metadata": {},
   "source": [
    "---\n",
    "\n",
    "## More Cleaning...\n",
    "\n",
    "Ok, lets keep exploring..."
   ]
  },
  {
   "cell_type": "code",
   "execution_count": null,
   "metadata": {},
   "outputs": [],
   "source": [
    "# Lets check the size of the DataFrame. If its massive, we probably don't want to pull it all back into the notebook!\n",
    "df.shape"
   ]
  },
  {
   "cell_type": "code",
   "execution_count": null,
   "metadata": {},
   "outputs": [],
   "source": [
    "# look at the bottom of the DataFrame...\n",
    "df.tail()"
   ]
  },
  {
   "cell_type": "markdown",
   "metadata": {},
   "source": [
    "...But 133 rows (0-132) but 131 ranks....? Something is awry..."
   ]
  },
  {
   "cell_type": "code",
   "execution_count": null,
   "metadata": {},
   "outputs": [],
   "source": [
    "# AS a starting point, lets find rows where the \"Rank\" is clearly weird\n",
    "df.head(20)"
   ]
  },
  {
   "cell_type": "code",
   "execution_count": null,
   "metadata": {},
   "outputs": [],
   "source": [
    "# List comprehension example - loop through all rows in the Rank column and check whether the first digit \n",
    "[str(x)[0].isdigit() for x in df[\"Rank\"].head(20)]"
   ]
  },
  {
   "cell_type": "code",
   "execution_count": null,
   "metadata": {},
   "outputs": [],
   "source": [
    "# check the erroneous rows - note the \"not\" negation operator\n",
    "df[[ not str(x)[0].isdigit() for x in df[\"Rank\"]]]"
   ]
  },
  {
   "cell_type": "code",
   "execution_count": null,
   "metadata": {},
   "outputs": [],
   "source": [
    "# Rebuild the dataframe excluding the erroneous rows...\n",
    "df = df[[ str(x)[0].isdigit() for x in df[\"Rank\"]]] "
   ]
  },
  {
   "cell_type": "code",
   "execution_count": null,
   "metadata": {},
   "outputs": [],
   "source": [
    "df.shape"
   ]
  },
  {
   "cell_type": "code",
   "execution_count": null,
   "metadata": {},
   "outputs": [],
   "source": [
    "# Onto transformations..."
   ]
  },
  {
   "cell_type": "markdown",
   "metadata": {},
   "source": [
    "_**n.b** in reality you probably want more structure to your \"data\" subfolder, e.g. /data/raw, /data/processed, /data/train, but this is just a **simple** demo..._"
   ]
  }
 ],
 "metadata": {
  "kernelspec": {
   "display_name": "Python 3",
   "language": "python",
   "name": "python3"
  },
  "language_info": {
   "codemirror_mode": {
    "name": "ipython",
    "version": 3
   },
   "file_extension": ".py",
   "mimetype": "text/x-python",
   "name": "python",
   "nbconvert_exporter": "python",
   "pygments_lexer": "ipython3",
   "version": "3.7.2"
  }
 },
 "nbformat": 4,
 "nbformat_minor": 2
}
