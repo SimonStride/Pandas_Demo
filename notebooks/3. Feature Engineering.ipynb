{
 "cells": [
  {
   "cell_type": "markdown",
   "metadata": {},
   "source": [
    "# Feature Engineering\n",
    "\n",
    "Feature Engineering is the process of applying domain-specific knowledge to expand the available data for subsequent steps. \n",
    "\n",
    "Loosely speaking, we'll be adding extra columns e.g. for categorisation or for the benefit of certain ML Models"
   ]
  },
  {
   "cell_type": "code",
   "execution_count": null,
   "metadata": {},
   "outputs": [],
   "source": [
    "import pandas as pd"
   ]
  },
  {
   "cell_type": "code",
   "execution_count": null,
   "metadata": {},
   "outputs": [],
   "source": [
    "df = pd.read_csv(\"../data/CompleteUG_clean.csv\")\n",
    "df.head(10)"
   ]
  },
  {
   "cell_type": "code",
   "execution_count": null,
   "metadata": {},
   "outputs": [],
   "source": [
    "df.shape"
   ]
  },
  {
   "cell_type": "markdown",
   "metadata": {},
   "source": [
    "## Example - work out the quartile of the Overall Score"
   ]
  },
  {
   "cell_type": "code",
   "execution_count": null,
   "metadata": {},
   "outputs": [],
   "source": [
    "# create a function to work out the quartile. Could be done a number of ways, but as an illustration... \n",
    "\n",
    "def my_quantiles(df, col):\n",
    "    q1 = df[col].quantile(.75)\n",
    "    q2 = df[col].quantile(.5)\n",
    "    q3 = df[col].quantile(.25)\n",
    "    # nested function to evaluate the above against a given \n",
    "    def get_quantile(val):\n",
    "        if val > q1: return 1\n",
    "        if val > q2: return 2\n",
    "        if val > q3: return 3\n",
    "        else: return 4\n",
    "    return get_quantile\n",
    "\n",
    "# Assign \"prepped\" function to a variable\n",
    "Overall_Score_Quartile = my_quantiles(df, \"Overall_Score\")\n",
    "\n",
    "# Create a new column implementing this function\n",
    "df[\"Score_Quartile\"] = [ Overall_Score_Quartile( x ) for x in df[\"Overall_Score\"]]\n",
    "df.head(50)"
   ]
  },
  {
   "cell_type": "markdown",
   "metadata": {},
   "source": [
    "## Example - adding categories as columns"
   ]
  },
  {
   "cell_type": "code",
   "execution_count": null,
   "metadata": {},
   "outputs": [],
   "source": [
    "used_cars_df = pd.DataFrame([\n",
    "    {\"Make\": \"Mercedes\", \"Model\": \"C-Class\", \"Value\": 10000},\n",
    "    {\"Make\": \"Mercedes\", \"Model\": \"E-Class\", \"Value\": 15000},\n",
    "    {\"Make\": \"BMW\", \"Model\": \"X3\", \"Value\": 20000},\n",
    "    {\"Make\": \"Audi\", \"Model\": \"Q5\", \"Value\": 25000},\n",
    "    {\"Make\": \"VW\", \"Model\": \"Golf\", \"Value\": 5000},\n",
    "    \n",
    "    ])\n",
    "used_cars_df"
   ]
  },
  {
   "cell_type": "code",
   "execution_count": null,
   "metadata": {},
   "outputs": [],
   "source": [
    "# turn categories into a matrix of columns populated with 1s and 0s\n",
    "\n",
    "# This is required for a number of models, especially in ScikitLearn to work properly\n",
    "\n",
    "pd.get_dummies(used_cars_df[\"Make\"])"
   ]
  },
  {
   "cell_type": "code",
   "execution_count": null,
   "metadata": {},
   "outputs": [],
   "source": [
    "pd.get_dummies(used_cars_df[\"Make\"], prefix=\"Make\")"
   ]
  },
  {
   "cell_type": "code",
   "execution_count": null,
   "metadata": {},
   "outputs": [],
   "source": [
    "used_cars_df = used_cars_df.join(pd.get_dummies(used_cars_df[\"Make\"], prefix=\"Make\"))\n",
    "\n",
    "#(Joins index-to-index)"
   ]
  },
  {
   "cell_type": "code",
   "execution_count": null,
   "metadata": {},
   "outputs": [],
   "source": [
    "used_cars_df"
   ]
  },
  {
   "cell_type": "markdown",
   "metadata": {},
   "source": [
    "## Further Reading\n",
    "\n",
    "### Automated Feature Tools\n",
    "\n",
    "FeatureTools is a library to help automate the implementation of features with minimum effort.\n",
    "\n",
    "https://github.com/Featuretools/featuretools\n"
   ]
  },
  {
   "cell_type": "code",
   "execution_count": null,
   "metadata": {},
   "outputs": [],
   "source": []
  }
 ],
 "metadata": {
  "kernelspec": {
   "display_name": "Python 3",
   "language": "python",
   "name": "python3"
  },
  "language_info": {
   "codemirror_mode": {
    "name": "ipython",
    "version": 3
   },
   "file_extension": ".py",
   "mimetype": "text/x-python",
   "name": "python",
   "nbconvert_exporter": "python",
   "pygments_lexer": "ipython3",
   "version": "3.7.2"
  }
 },
 "nbformat": 4,
 "nbformat_minor": 2
}
